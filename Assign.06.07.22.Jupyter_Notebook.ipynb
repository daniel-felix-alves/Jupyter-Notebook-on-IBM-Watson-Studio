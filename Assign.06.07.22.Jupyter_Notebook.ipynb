{
  "metadata": {
    "kernelspec": {
      "name": "python",
      "display_name": "Pyolite",
      "language": "python"
    },
    "language_info": {
      "codemirror_mode": {
        "name": "python",
        "version": 3
      },
      "file_extension": ".py",
      "mimetype": "text/x-python",
      "name": "python",
      "nbconvert_exporter": "python",
      "pygments_lexer": "ipython3",
      "version": "3.8"
    }
  },
  "nbformat_minor": 4,
  "nbformat": 4,
  "cells": [
    {
      "cell_type": "markdown",
      "source": "<center>\n         <h1>My Jupyter Notebook on IBM Watson</h1>\n</center>\n",
      "metadata": {
        "tags": []
      }
    },
    {
      "cell_type": "markdown",
      "source": "<p><b>Daniel F. Alves</b></p>\n<p>Future Data Analyst</p> ",
      "metadata": {}
    },
    {
      "cell_type": "markdown",
      "source": "<p><i>I am interested in data science because is an amazing area to study and apply in our times, where everything is or can be data.  </i></p>",
      "metadata": {}
    },
    {
      "cell_type": "markdown",
      "source": "<h3><i>The code is going to print a message.  </i></h3>",
      "metadata": {}
    },
    {
      "cell_type": "code",
      "source": "print(\"Do your part in making this a better World to live in\")",
      "metadata": {
        "trusted": true
      },
      "execution_count": 2,
      "outputs": [
        {
          "name": "stdout",
          "text": "Do your part in making this a better World to live in\n",
          "output_type": "stream"
        }
      ]
    },
    {
      "cell_type": "markdown",
      "source": "* Here you can access some databases to study: [Data Asset eXchange](https://developer.ibm.com/exchanges/data/)\n* Here you can access enroll to the IBM Data Analyst Professional Certificate on Coursera: [Data Asset eXchange](https://www.coursera.org/professional-certificates/ibm-data-analyst)\n\nReasons to try this certificate:\n\n1. Is free for 7 days.\n2. You have access to tools and knowledge from IBM that are free and up-to-date with the latest developments on the field.\n3. You can do de courses at your own pace.\n\n![alt text][logo]\n\n[logo]: https://i.imgur.com/PjCmZiM.jpg \"Education to freedom\"",
      "metadata": {}
    }
  ]
}